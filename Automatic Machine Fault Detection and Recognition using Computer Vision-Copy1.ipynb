{
 "cells": [
  {
   "cell_type": "code",
   "execution_count": 4,
   "id": "94f19efc",
   "metadata": {
    "scrolled": true
   },
   "outputs": [
    {
     "name": "stdout",
     "output_type": "stream",
     "text": [
      "Requirement already satisfied: librosa in c:\\users\\hp\\anaconda3\\lib\\site-packages (0.10.1)\n",
      "Requirement already satisfied: resampy in c:\\users\\hp\\anaconda3\\lib\\site-packages (0.4.3)\n",
      "Requirement already satisfied: audioread>=2.1.9 in c:\\users\\hp\\anaconda3\\lib\\site-packages (from librosa) (3.0.1)\n",
      "Requirement already satisfied: numpy!=1.22.0,!=1.22.1,!=1.22.2,>=1.20.3 in c:\\users\\hp\\anaconda3\\lib\\site-packages (from librosa) (1.22.4)\n",
      "Requirement already satisfied: scipy>=1.2.0 in c:\\users\\hp\\anaconda3\\lib\\site-packages (from librosa) (1.6.2)\n",
      "Requirement already satisfied: scikit-learn>=0.20.0 in c:\\users\\hp\\anaconda3\\lib\\site-packages (from librosa) (0.24.1)\n",
      "Requirement already satisfied: joblib>=0.14 in c:\\users\\hp\\anaconda3\\lib\\site-packages (from librosa) (1.0.1)\n",
      "Requirement already satisfied: decorator>=4.3.0 in c:\\users\\hp\\anaconda3\\lib\\site-packages (from librosa) (5.0.6)\n",
      "Requirement already satisfied: numba>=0.51.0 in c:\\users\\hp\\anaconda3\\lib\\site-packages (from librosa) (0.53.1)\n",
      "Requirement already satisfied: soundfile>=0.12.1 in c:\\users\\hp\\anaconda3\\lib\\site-packages (from librosa) (0.12.1)\n",
      "Requirement already satisfied: pooch>=1.0 in c:\\users\\hp\\anaconda3\\lib\\site-packages (from librosa) (1.8.1)\n",
      "Requirement already satisfied: soxr>=0.3.2 in c:\\users\\hp\\anaconda3\\lib\\site-packages (from librosa) (0.3.7)\n",
      "Requirement already satisfied: typing-extensions>=4.1.1 in c:\\users\\hp\\anaconda3\\lib\\site-packages (from librosa) (4.10.0)\n",
      "Requirement already satisfied: lazy-loader>=0.1 in c:\\users\\hp\\anaconda3\\lib\\site-packages (from librosa) (0.3)\n",
      "Requirement already satisfied: msgpack>=1.0 in c:\\users\\hp\\anaconda3\\lib\\site-packages (from librosa) (1.0.2)\n",
      "Requirement already satisfied: importlib-resources in c:\\users\\hp\\anaconda3\\lib\\site-packages (from resampy) (6.4.0)\n",
      "Requirement already satisfied: llvmlite<0.37,>=0.36.0rc1 in c:\\users\\hp\\anaconda3\\lib\\site-packages (from numba>=0.51.0->librosa) (0.36.0)\n",
      "Requirement already satisfied: setuptools in c:\\users\\hp\\anaconda3\\lib\\site-packages (from numba>=0.51.0->librosa) (52.0.0.post20210125)\n",
      "Requirement already satisfied: platformdirs>=2.5.0 in c:\\users\\hp\\anaconda3\\lib\\site-packages (from pooch>=1.0->librosa) (4.2.0)\n",
      "Requirement already satisfied: packaging>=20.0 in c:\\users\\hp\\anaconda3\\lib\\site-packages (from pooch>=1.0->librosa) (20.9)\n",
      "Requirement already satisfied: requests>=2.19.0 in c:\\users\\hp\\anaconda3\\lib\\site-packages (from pooch>=1.0->librosa) (2.25.1)\n",
      "Requirement already satisfied: threadpoolctl>=2.0.0 in c:\\users\\hp\\anaconda3\\lib\\site-packages (from scikit-learn>=0.20.0->librosa) (2.1.0)\n",
      "Requirement already satisfied: cffi>=1.0 in c:\\users\\hp\\anaconda3\\lib\\site-packages (from soundfile>=0.12.1->librosa) (1.14.5)\n",
      "Requirement already satisfied: zipp>=3.1.0 in c:\\users\\hp\\anaconda3\\lib\\site-packages (from importlib-resources->resampy) (3.4.1)\n",
      "Requirement already satisfied: pycparser in c:\\users\\hp\\anaconda3\\lib\\site-packages (from cffi>=1.0->soundfile>=0.12.1->librosa) (2.20)\n",
      "Requirement already satisfied: pyparsing>=2.0.2 in c:\\users\\hp\\anaconda3\\lib\\site-packages (from packaging>=20.0->pooch>=1.0->librosa) (2.4.7)\n",
      "Requirement already satisfied: chardet<5,>=3.0.2 in c:\\users\\hp\\anaconda3\\lib\\site-packages (from requests>=2.19.0->pooch>=1.0->librosa) (4.0.0)\n",
      "Requirement already satisfied: idna<3,>=2.5 in c:\\users\\hp\\anaconda3\\lib\\site-packages (from requests>=2.19.0->pooch>=1.0->librosa) (2.10)\n",
      "Requirement already satisfied: urllib3<1.27,>=1.21.1 in c:\\users\\hp\\anaconda3\\lib\\site-packages (from requests>=2.19.0->pooch>=1.0->librosa) (1.26.4)\n",
      "Requirement already satisfied: certifi>=2017.4.17 in c:\\users\\hp\\anaconda3\\lib\\site-packages (from requests>=2.19.0->pooch>=1.0->librosa) (2020.12.5)\n"
     ]
    },
    {
     "name": "stderr",
     "output_type": "stream",
     "text": [
      "DEPRECATION: pyodbc 4.0.0-unsupported has a non-standard version number. pip 24.0 will enforce this behaviour change. A possible replacement is to upgrade to a newer version of pyodbc or contact the author to suggest that they release a version with a conforming version number. Discussion can be found at https://github.com/pypa/pip/issues/12063\n",
      "\n",
      "[notice] A new release of pip is available: 23.3.1 -> 24.0\n",
      "[notice] To update, run: python.exe -m pip install --upgrade pip\n"
     ]
    }
   ],
   "source": [
    "!pip install librosa resampy"
   ]
  },
  {
   "cell_type": "code",
   "execution_count": 5,
   "id": "dd483fec",
   "metadata": {
    "scrolled": true
   },
   "outputs": [
    {
     "name": "stdout",
     "output_type": "stream",
     "text": [
      "Collecting py7zr\n",
      "  Downloading py7zr-0.21.0-py3-none-any.whl.metadata (17 kB)\n",
      "Collecting texttable (from py7zr)\n",
      "  Downloading texttable-1.7.0-py2.py3-none-any.whl.metadata (9.8 kB)\n",
      "Collecting pycryptodomex>=3.16.0 (from py7zr)\n",
      "  Downloading pycryptodomex-3.20.0-cp35-abi3-win_amd64.whl.metadata (3.4 kB)\n",
      "Collecting pyzstd>=0.15.9 (from py7zr)\n",
      "  Downloading pyzstd-0.15.10-cp38-cp38-win_amd64.whl.metadata (8.1 kB)\n",
      "Collecting pyppmd<1.2.0,>=1.1.0 (from py7zr)\n",
      "  Downloading pyppmd-1.1.0-cp38-cp38-win_amd64.whl.metadata (5.8 kB)\n",
      "Collecting pybcj<1.1.0,>=1.0.0 (from py7zr)\n",
      "  Downloading pybcj-1.0.2-cp38-cp38-win_amd64.whl.metadata (4.1 kB)\n",
      "Collecting multivolumefile>=0.2.3 (from py7zr)\n",
      "  Downloading multivolumefile-0.2.3-py3-none-any.whl.metadata (6.3 kB)\n",
      "Collecting inflate64<1.1.0,>=1.0.0 (from py7zr)\n",
      "  Downloading inflate64-1.0.0-cp38-cp38-win_amd64.whl.metadata (4.1 kB)Note: you may need to restart the kernel to use updated packages.\n"
     ]
    },
    {
     "name": "stderr",
     "output_type": "stream",
     "text": [
      "DEPRECATION: pyodbc 4.0.0-unsupported has a non-standard version number. pip 24.0 will enforce this behaviour change. A possible replacement is to upgrade to a newer version of pyodbc or contact the author to suggest that they release a version with a conforming version number. Discussion can be found at https://github.com/pypa/pip/issues/12063\n",
      "\n",
      "[notice] A new release of pip is available: 23.3.1 -> 24.0\n",
      "[notice] To update, run: python.exe -m pip install --upgrade pip\n"
     ]
    },
    {
     "name": "stdout",
     "output_type": "stream",
     "text": [
      "\n",
      "Collecting brotli>=1.1.0 (from py7zr)\n",
      "  Downloading Brotli-1.1.0-cp38-cp38-win_amd64.whl.metadata (5.6 kB)\n",
      "Requirement already satisfied: psutil in c:\\users\\hp\\anaconda3\\lib\\site-packages (from py7zr) (5.8.0)\n",
      "Downloading py7zr-0.21.0-py3-none-any.whl (67 kB)\n",
      "   ---------------------------------------- 67.6/67.6 kB 261.7 kB/s eta 0:00:00\n",
      "Downloading Brotli-1.1.0-cp38-cp38-win_amd64.whl (357 kB)\n",
      "   -------------------------------------- 357.3/357.3 kB 304.1 kB/s eta 0:00:00\n",
      "Downloading inflate64-1.0.0-cp38-cp38-win_amd64.whl (35 kB)\n",
      "Downloading multivolumefile-0.2.3-py3-none-any.whl (17 kB)\n",
      "Downloading pybcj-1.0.2-cp38-cp38-win_amd64.whl (24 kB)\n",
      "Downloading pycryptodomex-3.20.0-cp35-abi3-win_amd64.whl (1.8 MB)\n",
      "   ---------------------------------------- 1.8/1.8 MB 183.6 kB/s eta 0:00:00\n",
      "Downloading pyppmd-1.1.0-cp38-cp38-win_amd64.whl (46 kB)\n",
      "   ---------------------------------------- 46.2/46.2 kB 177.1 kB/s eta 0:00:00\n",
      "Downloading pyzstd-0.15.10-cp38-cp38-win_amd64.whl (245 kB)\n",
      "   -------------------------------------- 245.4/245.4 kB 177.1 kB/s eta 0:00:00\n",
      "Downloading texttable-1.7.0-py2.py3-none-any.whl (10 kB)\n",
      "Installing collected packages: texttable, brotli, pyzstd, pyppmd, pycryptodomex, pybcj, multivolumefile, inflate64, py7zr\n",
      "Successfully installed brotli-1.1.0 inflate64-1.0.0 multivolumefile-0.2.3 py7zr-0.21.0 pybcj-1.0.2 pycryptodomex-3.20.0 pyppmd-1.1.0 pyzstd-0.15.10 texttable-1.7.0\n"
     ]
    }
   ],
   "source": [
    "\n"
   ]
  },
  {
   "cell_type": "code",
   "execution_count": 6,
   "id": "ca3efe38",
   "metadata": {},
   "outputs": [],
   "source": [
    "import numpy as np\n",
    "import tensorflow as tf\n",
    "from tensorflow.keras import layers, models\n",
    "from tensorflow.keras.layers import Dropout\n",
    "from sklearn.model_selection import train_test_split\n",
    "from sklearn.metrics import f1_score, roc_curve, auc, confusion_matrix, classification_report, precision_recall_curve, average_precision_score\n",
    "from sklearn.preprocessing import LabelEncoder\n",
    "import matplotlib.pyplot as plt\n",
    "import py7zr\n",
    "import librosa\n",
    "import os"
   ]
  },
  {
   "cell_type": "code",
   "execution_count": 25,
   "id": "8421d59c",
   "metadata": {},
   "outputs": [
    {
     "name": "stdout",
     "output_type": "stream",
     "text": [
      "Extraction completed.\n"
     ]
    }
   ],
   "source": [
    "# Path to your .7z file\n",
    "file_path = r'C:\\Users\\Hp\\Documents\\Semester 7\\Computer Vision\\samples.7z'\n",
    "\n",
    "# Directory to extract the contents of the .7z file\n",
    "extracted_dir = r'C:\\Users\\Hp\\Documents\\Semester 7\\Computer Vision'\n",
    "\n",
    "# Create the directory if it doesn't exist\n",
    "os.makedirs(extracted_dir, exist_ok=True)\n",
    "\n",
    "# Extract the contents of the .7z file\n",
    "with py7zr.SevenZipFile(file_path, mode='r') as z:\n",
    "    z.extractall(path=extracted_dir)\n",
    "\n",
    "print(\"Extraction completed.\")\n"
   ]
  },
  {
   "cell_type": "code",
   "execution_count": 39,
   "id": "bad0995d",
   "metadata": {},
   "outputs": [],
   "source": [
    "def load_data(test_size=0.2, chunk_duration=1):\n",
    "    x, y = [], []\n",
    "    for file in os.listdir(r'C:\\Users\\Hp\\Documents\\Semester 7\\Computer Vision\\samples'):\n",
    "        # Load audio file\n",
    "        audio, sample_rate = librosa.load(r'C:\\Users\\Hp\\Documents\\Semester 7\\Computer Vision\\samples\\\\' + file, res_type='kaiser_fast')\n",
    "\n",
    "        # Calculate number of chunks\n",
    "        num_chunks = int(np.ceil(len(audio) / (sample_rate * chunk_duration)))\n",
    "\n",
    "        # Extract features from each chunk\n",
    "        for i in range(num_chunks):\n",
    "            start = int(i * sample_rate * chunk_duration)\n",
    "            end = min(len(audio), int((i + 1) * sample_rate * chunk_duration))\n",
    "            chunk_audio = audio[start:end]\n",
    "\n",
    "            # Extract features from audio chunk\n",
    "            feature = extract_features_from_audio(chunk_audio, sample_rate)\n",
    "            x.append(feature)\n",
    "\n",
    "            # Extract class label from the file name\n",
    "            class_label = file.split('(')[0]  # Assuming the class label is before the first '-'\n",
    "            y.append(class_label)\n",
    "\n",
    "    # Encode the labels\n",
    "    encoder = LabelEncoder()\n",
    "    y = encoder.fit_transform(y)\n",
    "\n",
    "    return train_test_split(np.array(x), y, test_size=test_size, random_state=42)\n"
   ]
  },
  {
   "cell_type": "code",
   "execution_count": 40,
   "id": "01f49948",
   "metadata": {},
   "outputs": [],
   "source": [
    "def extract_features_from_audio(audio, sample_rate, mfcc=True, chroma=True, mel=True, zero_crossing_rate=True, spectral_bandwidth=True, statistic='square_root_sum'):\n",
    "    result = []\n",
    "\n",
    "    if mfcc:\n",
    "        mfccs = librosa.feature.mfcc(y=audio, sr=sample_rate, n_mfcc=40, n_fft=1024)\n",
    "        if statistic == 'square_root_sum':\n",
    "            mfccs = np.sqrt(np.sum(np.square(mfccs), axis=1))\n",
    "        # Add other cases for different statistics if needed\n",
    "\n",
    "        result.append(mfccs)\n",
    "\n",
    "    if chroma:\n",
    "        stft = np.abs(librosa.stft(audio, n_fft=1024))\n",
    "        chroma = librosa.feature.chroma_stft(S=stft, sr=sample_rate)\n",
    "        if statistic == 'square_root_sum':\n",
    "            chroma = np.sqrt(np.sum(np.square(chroma), axis=1))\n",
    "        # Add other cases for different statistics if needed\n",
    "\n",
    "        result.append(chroma)\n",
    "\n",
    "    if mel:\n",
    "        mel = librosa.feature.melspectrogram(y=audio, sr=sample_rate, n_fft=1024)\n",
    "        if statistic == 'square_root_sum':\n",
    "            mel = np.sqrt(np.sum(np.square(mel), axis=1))\n",
    "        # Add other cases for different statistics if needed\n",
    "\n",
    "        result.append(mel)\n",
    "\n",
    "    if zero_crossing_rate:\n",
    "        zcr = librosa.feature.zero_crossing_rate(audio)\n",
    "        if statistic == 'square_root_sum':\n",
    "            zcr = np.sqrt(np.sum(np.square(zcr), axis=1))\n",
    "        # Add other cases for different statistics if needed\n",
    "\n",
    "        result.append(zcr)\n",
    "\n",
    "    if spectral_bandwidth:\n",
    "        spec_bw = librosa.feature.spectral_bandwidth(y=audio, sr=sample_rate)\n",
    "        if statistic == 'square_root_sum':\n",
    "            spec_bw = np.sqrt(np.sum(np.square(spec_bw), axis=1))\n",
    "        # Add other cases for different statistics if needed\n",
    "\n",
    "        result.append(spec_bw)\n",
    "\n",
    "    return np.hstack(result)\n"
   ]
  },
  {
   "cell_type": "code",
   "execution_count": 41,
   "id": "ae09eec0",
   "metadata": {},
   "outputs": [],
   "source": [
    "def create_model_with_dropout(input_shape, num_classes, dropout_rate=0.5):\n",
    "    model = models.Sequential()\n",
    "    model.add(layers.Conv1D(64, 3, activation='relu', input_shape=input_shape))\n",
    "    model.add(layers.MaxPooling1D(2))\n",
    "    model.add(layers.Conv1D(128, 3, activation='relu'))\n",
    "    model.add(layers.MaxPooling1D(2))\n",
    "    model.add(layers.Conv1D(256, 3, activation='relu'))\n",
    "    model.add(layers.MaxPooling1D(2))\n",
    "    model.add(layers.Conv1D(256, 3, activation='relu'))\n",
    "    model.add(layers.MaxPooling1D(2))\n",
    "    model.add(layers.Flatten())\n",
    "    model.add(layers.Dense(512, activation='relu'))\n",
    "    model.add(Dropout(dropout_rate))  # Adding dropout layer\n",
    "    model.add(layers.Dense(num_classes, activation='softmax'))\n",
    "    return model"
   ]
  },
  {
   "cell_type": "code",
   "execution_count": 42,
   "id": "a5525fae",
   "metadata": {},
   "outputs": [
    {
     "name": "stderr",
     "output_type": "stream",
     "text": [
      "C:\\Users\\Hp\\anaconda3\\lib\\site-packages\\librosa\\core\\spectrum.py:257: UserWarning: n_fft=2048 is too large for input signal of length=1912\n",
      "  warnings.warn(\n",
      "C:\\Users\\Hp\\anaconda3\\lib\\site-packages\\librosa\\core\\spectrum.py:257: UserWarning: n_fft=1024 is too large for input signal of length=70\n",
      "  warnings.warn(\n",
      "C:\\Users\\Hp\\anaconda3\\lib\\site-packages\\librosa\\core\\spectrum.py:257: UserWarning: n_fft=2048 is too large for input signal of length=70\n",
      "  warnings.warn(\n"
     ]
    }
   ],
   "source": [
    "    # Load and split the dataset\n",
    "X_train, X_test, y_train, y_test = load_data(test_size=0.2)\n"
   ]
  },
  {
   "cell_type": "code",
   "execution_count": 43,
   "id": "668fee7f",
   "metadata": {},
   "outputs": [
    {
     "name": "stdout",
     "output_type": "stream",
     "text": [
      "Model: \"sequential\"\n",
      "_________________________________________________________________\n",
      " Layer (type)                Output Shape              Param #   \n",
      "=================================================================\n",
      " conv1d (Conv1D)             (None, 180, 64)           256       \n",
      "                                                                 \n",
      " max_pooling1d (MaxPooling1D  (None, 90, 64)           0         \n",
      " )                                                               \n",
      "                                                                 \n",
      " conv1d_1 (Conv1D)           (None, 88, 128)           24704     \n",
      "                                                                 \n",
      " max_pooling1d_1 (MaxPooling  (None, 44, 128)          0         \n",
      " 1D)                                                             \n",
      "                                                                 \n",
      " conv1d_2 (Conv1D)           (None, 42, 256)           98560     \n",
      "                                                                 \n",
      " max_pooling1d_2 (MaxPooling  (None, 21, 256)          0         \n",
      " 1D)                                                             \n",
      "                                                                 \n",
      " conv1d_3 (Conv1D)           (None, 19, 256)           196864    \n",
      "                                                                 \n",
      " max_pooling1d_3 (MaxPooling  (None, 9, 256)           0         \n",
      " 1D)                                                             \n",
      "                                                                 \n",
      " flatten (Flatten)           (None, 2304)              0         \n",
      "                                                                 \n",
      " dense (Dense)               (None, 512)               1180160   \n",
      "                                                                 \n",
      " dropout (Dropout)           (None, 512)               0         \n",
      "                                                                 \n",
      " dense_1 (Dense)             (None, 4)                 2052      \n",
      "                                                                 \n",
      "=================================================================\n",
      "Total params: 1,502,596\n",
      "Trainable params: 1,502,596\n",
      "Non-trainable params: 0\n",
      "_________________________________________________________________\n"
     ]
    }
   ],
   "source": [
    "# Update input_shape to have 2 dimensions (samples, time_steps)\n",
    "input_shape = (X_train.shape[1], 1)\n",
    "num_classes=4\n",
    "# Create the model with dropout\n",
    "model_with_dropout = create_model_with_dropout(input_shape=(X_train.shape[1], 1), num_classes=num_classes)\n",
    "\n",
    "# Compile the model\n",
    "model_with_dropout.compile(optimizer='adam',\n",
    "                           loss='sparse_categorical_crossentropy',\n",
    "                           metrics=['accuracy'])\n",
    "# Display model summary\n",
    "model_with_dropout.summary()\n"
   ]
  },
  {
   "cell_type": "code",
   "execution_count": 44,
   "id": "f7b2fc59",
   "metadata": {},
   "outputs": [
    {
     "name": "stdout",
     "output_type": "stream",
     "text": [
      "Epoch 1/50\n",
      "16/16 [==============================] - 5s 143ms/step - loss: 2.9873 - accuracy: 0.3220 - val_loss: 1.1143 - val_accuracy: 0.3730\n",
      "Epoch 2/50\n",
      "16/16 [==============================] - 2s 101ms/step - loss: 1.1605 - accuracy: 0.4640 - val_loss: 1.0176 - val_accuracy: 0.6349\n",
      "Epoch 3/50\n",
      "16/16 [==============================] - 2s 103ms/step - loss: 1.0451 - accuracy: 0.5500 - val_loss: 0.8907 - val_accuracy: 0.6349\n",
      "Epoch 4/50\n",
      "16/16 [==============================] - 2s 104ms/step - loss: 0.9248 - accuracy: 0.6400 - val_loss: 0.6542 - val_accuracy: 0.7857\n",
      "Epoch 5/50\n",
      "16/16 [==============================] - 3s 162ms/step - loss: 0.7935 - accuracy: 0.6980 - val_loss: 0.5469 - val_accuracy: 0.8651\n",
      "Epoch 6/50\n",
      "16/16 [==============================] - 3s 192ms/step - loss: 0.7821 - accuracy: 0.6920 - val_loss: 0.5398 - val_accuracy: 0.7778\n",
      "Epoch 7/50\n",
      "16/16 [==============================] - 2s 107ms/step - loss: 0.7501 - accuracy: 0.7060 - val_loss: 0.4774 - val_accuracy: 0.8016\n",
      "Epoch 8/50\n",
      "16/16 [==============================] - 2s 104ms/step - loss: 0.5946 - accuracy: 0.7660 - val_loss: 0.4934 - val_accuracy: 0.7778\n",
      "Epoch 9/50\n",
      "16/16 [==============================] - 2s 108ms/step - loss: 0.5248 - accuracy: 0.7660 - val_loss: 0.4551 - val_accuracy: 0.8016\n",
      "Epoch 10/50\n",
      "16/16 [==============================] - 2s 104ms/step - loss: 0.4739 - accuracy: 0.7980 - val_loss: 0.4107 - val_accuracy: 0.8810\n",
      "Epoch 11/50\n",
      "16/16 [==============================] - 2s 107ms/step - loss: 0.4270 - accuracy: 0.8260 - val_loss: 0.3847 - val_accuracy: 0.8571\n",
      "Epoch 12/50\n",
      "16/16 [==============================] - 2s 113ms/step - loss: 0.4706 - accuracy: 0.8260 - val_loss: 0.4131 - val_accuracy: 0.8413\n",
      "Epoch 13/50\n",
      "16/16 [==============================] - 2s 99ms/step - loss: 0.4032 - accuracy: 0.8520 - val_loss: 0.4510 - val_accuracy: 0.7937\n",
      "Epoch 14/50\n",
      "16/16 [==============================] - 2s 99ms/step - loss: 0.3932 - accuracy: 0.8480 - val_loss: 0.4447 - val_accuracy: 0.8254\n",
      "Epoch 15/50\n",
      "16/16 [==============================] - 2s 100ms/step - loss: 0.3161 - accuracy: 0.8700 - val_loss: 0.4134 - val_accuracy: 0.7698\n",
      "Epoch 16/50\n",
      "16/16 [==============================] - 2s 101ms/step - loss: 0.3165 - accuracy: 0.8760 - val_loss: 0.4899 - val_accuracy: 0.8413\n",
      "Epoch 17/50\n",
      "16/16 [==============================] - 2s 102ms/step - loss: 0.3059 - accuracy: 0.8840 - val_loss: 0.3351 - val_accuracy: 0.8810\n",
      "Epoch 18/50\n",
      "16/16 [==============================] - 1s 94ms/step - loss: 0.2229 - accuracy: 0.9080 - val_loss: 0.3212 - val_accuracy: 0.8651\n",
      "Epoch 19/50\n",
      "16/16 [==============================] - 1s 92ms/step - loss: 0.2414 - accuracy: 0.9140 - val_loss: 0.3702 - val_accuracy: 0.8571\n",
      "Epoch 20/50\n",
      "16/16 [==============================] - 2s 102ms/step - loss: 0.2209 - accuracy: 0.9080 - val_loss: 0.3357 - val_accuracy: 0.8651\n",
      "Epoch 21/50\n",
      "16/16 [==============================] - 2s 107ms/step - loss: 0.2718 - accuracy: 0.9140 - val_loss: 0.2843 - val_accuracy: 0.8651\n",
      "Epoch 22/50\n",
      "16/16 [==============================] - 2s 106ms/step - loss: 0.1713 - accuracy: 0.9200 - val_loss: 0.2997 - val_accuracy: 0.9048\n",
      "Epoch 23/50\n",
      "16/16 [==============================] - 2s 156ms/step - loss: 0.1660 - accuracy: 0.9260 - val_loss: 0.3462 - val_accuracy: 0.8730\n",
      "Epoch 24/50\n",
      "16/16 [==============================] - 2s 115ms/step - loss: 0.2193 - accuracy: 0.9200 - val_loss: 0.3725 - val_accuracy: 0.8730\n",
      "Epoch 25/50\n",
      "16/16 [==============================] - 2s 102ms/step - loss: 0.1898 - accuracy: 0.9360 - val_loss: 0.2955 - val_accuracy: 0.8889\n",
      "Epoch 26/50\n",
      "16/16 [==============================] - 2s 100ms/step - loss: 0.1488 - accuracy: 0.9480 - val_loss: 0.2829 - val_accuracy: 0.8492\n",
      "Epoch 27/50\n",
      "16/16 [==============================] - 2s 111ms/step - loss: 0.1297 - accuracy: 0.9540 - val_loss: 0.3822 - val_accuracy: 0.8651\n",
      "Epoch 28/50\n",
      "16/16 [==============================] - 2s 99ms/step - loss: 0.1166 - accuracy: 0.9480 - val_loss: 0.3101 - val_accuracy: 0.8889\n",
      "Epoch 29/50\n",
      "16/16 [==============================] - 2s 98ms/step - loss: 0.1249 - accuracy: 0.9540 - val_loss: 0.3426 - val_accuracy: 0.8571\n",
      "Epoch 30/50\n",
      "16/16 [==============================] - 2s 123ms/step - loss: 0.0971 - accuracy: 0.9660 - val_loss: 0.3698 - val_accuracy: 0.8810\n",
      "Epoch 31/50\n",
      "16/16 [==============================] - 2s 111ms/step - loss: 0.0873 - accuracy: 0.9680 - val_loss: 0.2617 - val_accuracy: 0.8968\n",
      "Epoch 32/50\n",
      "16/16 [==============================] - 2s 105ms/step - loss: 0.0680 - accuracy: 0.9720 - val_loss: 0.2986 - val_accuracy: 0.8968\n",
      "Epoch 33/50\n",
      "16/16 [==============================] - 2s 124ms/step - loss: 0.0583 - accuracy: 0.9840 - val_loss: 0.3347 - val_accuracy: 0.8651\n",
      "Epoch 34/50\n",
      "16/16 [==============================] - 2s 111ms/step - loss: 0.0655 - accuracy: 0.9740 - val_loss: 0.3122 - val_accuracy: 0.9048\n",
      "Epoch 35/50\n",
      "16/16 [==============================] - 2s 101ms/step - loss: 0.0587 - accuracy: 0.9740 - val_loss: 0.4110 - val_accuracy: 0.8730\n",
      "Epoch 36/50\n",
      "16/16 [==============================] - 2s 104ms/step - loss: 0.0646 - accuracy: 0.9740 - val_loss: 0.3262 - val_accuracy: 0.8968\n",
      "Epoch 37/50\n",
      "16/16 [==============================] - 2s 102ms/step - loss: 0.0537 - accuracy: 0.9720 - val_loss: 0.3410 - val_accuracy: 0.9048\n",
      "Epoch 38/50\n",
      "16/16 [==============================] - 2s 100ms/step - loss: 0.0929 - accuracy: 0.9640 - val_loss: 0.4398 - val_accuracy: 0.8968\n",
      "Epoch 39/50\n",
      "16/16 [==============================] - 2s 98ms/step - loss: 0.1396 - accuracy: 0.9440 - val_loss: 0.3640 - val_accuracy: 0.8810\n",
      "Epoch 40/50\n",
      "16/16 [==============================] - 2s 96ms/step - loss: 0.1002 - accuracy: 0.9580 - val_loss: 0.3709 - val_accuracy: 0.8889\n",
      "Epoch 41/50\n",
      "16/16 [==============================] - 2s 102ms/step - loss: 0.0608 - accuracy: 0.9780 - val_loss: 0.5177 - val_accuracy: 0.8810\n",
      "Epoch 42/50\n",
      "16/16 [==============================] - 2s 99ms/step - loss: 0.0574 - accuracy: 0.9800 - val_loss: 0.3196 - val_accuracy: 0.8968\n",
      "Epoch 43/50\n",
      "16/16 [==============================] - 2s 104ms/step - loss: 0.0442 - accuracy: 0.9840 - val_loss: 0.3871 - val_accuracy: 0.8810\n",
      "Epoch 44/50\n",
      "16/16 [==============================] - 2s 102ms/step - loss: 0.0609 - accuracy: 0.9760 - val_loss: 0.3550 - val_accuracy: 0.8889\n",
      "Epoch 45/50\n",
      "16/16 [==============================] - 2s 97ms/step - loss: 0.0422 - accuracy: 0.9840 - val_loss: 0.3605 - val_accuracy: 0.8968\n",
      "Epoch 46/50\n",
      "16/16 [==============================] - 2s 108ms/step - loss: 0.0353 - accuracy: 0.9800 - val_loss: 0.3901 - val_accuracy: 0.8889\n",
      "Epoch 47/50\n",
      "16/16 [==============================] - 2s 134ms/step - loss: 0.0381 - accuracy: 0.9840 - val_loss: 0.3356 - val_accuracy: 0.9286\n",
      "Epoch 48/50\n",
      "16/16 [==============================] - 2s 101ms/step - loss: 0.0306 - accuracy: 0.9900 - val_loss: 0.3435 - val_accuracy: 0.9127\n",
      "Epoch 49/50\n",
      "16/16 [==============================] - 2s 103ms/step - loss: 0.0347 - accuracy: 0.9800 - val_loss: 0.3041 - val_accuracy: 0.9048\n",
      "Epoch 50/50\n",
      "16/16 [==============================] - 2s 102ms/step - loss: 0.0266 - accuracy: 0.9880 - val_loss: 0.3352 - val_accuracy: 0.9048\n",
      "4/4 [==============================] - 0s 34ms/step - loss: 0.3352 - accuracy: 0.9048\n",
      "Test accuracy: 0.9047619104385376\n"
     ]
    }
   ],
   "source": [
    "# Train the model\n",
    "model_with_dropout.fit(X_train, y_train, epochs=50, batch_size=32, validation_data=(X_test, y_test))\n",
    "\n",
    "# Evaluate the model\n",
    "test_loss, test_acc = model_with_dropout.evaluate(X_test, y_test)\n",
    "print('Test accuracy:', test_acc)\n"
   ]
  },
  {
   "cell_type": "code",
   "execution_count": 54,
   "id": "ef1d1a82",
   "metadata": {},
   "outputs": [
    {
     "name": "stdout",
     "output_type": "stream",
     "text": [
      "4/4 [==============================] - 0s 26ms/step\n"
     ]
    }
   ],
   "source": [
    "# Obtain predictions from the trained model\n",
    "y_pred_probabilities = model_with_dropout.predict(X_test)\n",
    "y_pred_labels = np.argmax(y_pred_probabilities, axis=1)"
   ]
  },
  {
   "cell_type": "code",
   "execution_count": 55,
   "id": "e8ace5b3",
   "metadata": {},
   "outputs": [
    {
     "name": "stdout",
     "output_type": "stream",
     "text": [
      "F1 Score: 0.9063612313612314\n"
     ]
    }
   ],
   "source": [
    "# Calculate F1 score\n",
    "f1 = f1_score(y_test, y_pred_labels, average='weighted')\n",
    "print('F1 Score:', f1)\n"
   ]
  },
  {
   "cell_type": "code",
   "execution_count": 56,
   "id": "32acd5e3",
   "metadata": {},
   "outputs": [
    {
     "name": "stdout",
     "output_type": "stream",
     "text": [
      "Confusion Matrix:\n",
      "[[23  1  0  1]\n",
      " [ 0 33  0  4]\n",
      " [ 0  0 26  3]\n",
      " [ 2  1  0 32]]\n"
     ]
    }
   ],
   "source": [
    "# Generate confusion matrix\n",
    "conf_matrix = confusion_matrix(y_test, y_pred_labels)\n",
    "print('Confusion Matrix:')\n",
    "print(conf_matrix)\n"
   ]
  },
  {
   "cell_type": "code",
   "execution_count": 57,
   "id": "b2f4635b",
   "metadata": {},
   "outputs": [
    {
     "name": "stdout",
     "output_type": "stream",
     "text": [
      "Classification Report:\n",
      "              precision    recall  f1-score   support\n",
      "\n",
      "           0       0.92      0.92      0.92        25\n",
      "           1       0.94      0.89      0.92        37\n",
      "           2       1.00      0.90      0.95        29\n",
      "           3       0.80      0.91      0.85        35\n",
      "\n",
      "    accuracy                           0.90       126\n",
      "   macro avg       0.92      0.91      0.91       126\n",
      "weighted avg       0.91      0.90      0.91       126\n",
      "\n"
     ]
    }
   ],
   "source": [
    "# Display classification report\n",
    "print('Classification Report:')\n",
    "print(classification_report(y_test, y_pred_labels))\n"
   ]
  },
  {
   "cell_type": "code",
   "execution_count": 60,
   "id": "1c5508bd",
   "metadata": {},
   "outputs": [
    {
     "name": "stdout",
     "output_type": "stream",
     "text": [
      "4/4 [==============================] - 0s 34ms/step\n"
     ]
    }
   ],
   "source": [
    "# Obtain predicted probabilities for each class from the trained model\n",
    "y_pred_logits = model_with_dropout.predict(X_test)\n",
    "y_pred_proba = tf.nn.softmax(y_pred_logits).numpy()\n"
   ]
  },
  {
   "cell_type": "code",
   "execution_count": 61,
   "id": "5879bb5c",
   "metadata": {},
   "outputs": [
    {
     "data": {
      "image/png": "[encoded data removed]",
      "text/plain": [
       "<Figure size 576x432 with 1 Axes>"
      ]
     },
     "metadata": {
      "needs_background": "light"
     },
     "output_type": "display_data"
    }
   ],
   "source": [
    "# Plot ROC curve for each class\n",
    "plt.figure(figsize=(8, 6))\n",
    "for i in range(num_classes):\n",
    "    if np.sum(y_test == i) > 0:  # Check if the class has positive samples\n",
    "        fpr, tpr, _ = roc_curve(y_test == i, y_pred_proba[:, i])\n",
    "        roc_auc = auc(fpr, tpr)\n",
    "        plt.plot(fpr, tpr, label=f'Class {i} (AUC = {roc_auc:.2f})')\n",
    "\n",
    "plt.plot([0, 1], [0, 1], linestyle='--', color='gray')\n",
    "plt.xlabel('False Positive Rate')\n",
    "plt.ylabel('True Positive Rate')\n",
    "plt.title('ROC Curve')\n",
    "plt.legend()\n",
    "plt.grid(True)\n",
    "plt.show()"
   ]
  },
  {
   "cell_type": "code",
   "execution_count": 62,
   "id": "5d072fad",
   "metadata": {},
   "outputs": [
    {
     "data": {
      "image/png": "[encoded data removed]",
      "text/plain": [
       "<Figure size 576x432 with 1 Axes>"
      ]
     },
     "metadata": {
      "needs_background": "light"
     },
     "output_type": "display_data"
    }
   ],
   "source": [
    "# Precision-Recall Curve for each class\n",
    "plt.figure(figsize=(8, 6))\n",
    "for i in range(num_classes):\n",
    "    precision, recall, _ = precision_recall_curve(y_test == i, y_pred_proba[:, i])\n",
    "    average_precision = average_precision_score(y_test == i, y_pred_proba[:, i])\n",
    "    plt.plot(recall, precision, label=f'Class {i} (AP = {average_precision:.2f})')"
   ]
  },
  {
   "cell_type": "code",
   "execution_count": 63,
   "id": "e3add56e",
   "metadata": {},
   "outputs": [
    {
     "name": "stderr",
     "output_type": "stream",
     "text": [
      "No handles with labels found to put in legend.\n"
     ]
    },
    {
     "data": {
      "image/png": "[encoded data removed]",
      "text/plain": [
       "<Figure size 432x288 with 1 Axes>"
      ]
     },
     "metadata": {
      "needs_background": "light"
     },
     "output_type": "display_data"
    }
   ],
   "source": [
    "plt.xlabel('Recall')\n",
    "plt.ylabel('Precision')\n",
    "plt.title('Precision-Recall Curve for each class')\n",
    "plt.legend()\n",
    "plt.grid(True)\n",
    "plt.show()\n"
   ]
  },
  {
   "cell_type": "code",
   "execution_count": null,
   "id": "43e448dc",
   "metadata": {},
   "outputs": [],
   "source": []
  }
 ],
 "metadata": {
  "kernelspec": {
   "display_name": "Python 3",
   "language": "python",
   "name": "python3"
  },
  "language_info": {
   "codemirror_mode": {
    "name": "ipython",
    "version": 3
   },
   "file_extension": ".py",
   "mimetype": "text/x-python",
   "name": "python",
   "nbconvert_exporter": "python",
   "pygments_lexer": "ipython3",
   "version": "3.8.8"
  }
 },
 "nbformat": 4,
 "nbformat_minor": 5
}
